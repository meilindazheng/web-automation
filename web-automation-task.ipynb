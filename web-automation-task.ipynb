{
 "cells": [
  {
   "cell_type": "code",
   "execution_count": 20,
   "id": "29e723c9",
   "metadata": {},
   "outputs": [
    {
     "name": "stdout",
     "output_type": "stream",
     "text": [
      "2.0.0\n",
      "1.24.2\n"
     ]
    }
   ],
   "source": [
    "from selenium import webdriver\n",
    "from selenium.webdriver.chrome.service import Service\n",
    "from bs4 import BeautifulSoup\n",
    "from selenium.webdriver.common.by import By\n",
    "from IPython.display import HTML\n",
    "import pandas as pd\n",
    "import numpy as np\n",
    "import time\n",
    "import string\n",
    "import requests\n",
    "\n",
    "print(pd.__version__)\n",
    "print(np.__version__)"
   ]
  },
  {
   "cell_type": "code",
   "execution_count": 21,
   "id": "09abee17",
   "metadata": {},
   "outputs": [],
   "source": [
    "driver = webdriver.Chrome()"
   ]
  },
  {
   "cell_type": "code",
   "execution_count": 22,
   "id": "b662060b",
   "metadata": {},
   "outputs": [],
   "source": [
    "driver.get('https://shopee.co.id/search?keyword=iphone%2013')\n",
    "driver.set_window_size(1300,800)\n",
    "time.sleep(5)"
   ]
  },
  {
   "cell_type": "code",
   "execution_count": 26,
   "id": "f7649c45",
   "metadata": {},
   "outputs": [],
   "source": [
    "content = driver.page_source\n",
    "data = BeautifulSoup(content,'html.parser')\n",
    "rentang = 500\n",
    "for i in range (1,10):\n",
    "    akhir = rentang*i\n",
    "    perintah = \"window.scrollTo(0,\"+str(akhir)+\")\"\n",
    "    driver.execute_script(perintah)\n",
    "    time.sleep(2)"
   ]
  },
  {
   "cell_type": "code",
   "execution_count": 65,
   "id": "b4499d2c",
   "metadata": {},
   "outputs": [
    {
     "ename": "AttributeError",
     "evalue": "'Styler' object has no attribute 'hide_index'",
     "output_type": "error",
     "traceback": [
      "\u001b[1;31m---------------------------------------------------------------------------\u001b[0m",
      "\u001b[1;31mAttributeError\u001b[0m                            Traceback (most recent call last)",
      "Cell \u001b[1;32mIn[65], line 19\u001b[0m\n\u001b[0;32m     16\u001b[0m df \u001b[38;5;241m=\u001b[39m pd\u001b[38;5;241m.\u001b[39mDataFrame({\u001b[38;5;124m'\u001b[39m\u001b[38;5;124mWebsite\u001b[39m\u001b[38;5;124m'\u001b[39m:list_website,\u001b[38;5;124m'\u001b[39m\u001b[38;5;124mProduct Name\u001b[39m\u001b[38;5;124m'\u001b[39m:list_product,\u001b[38;5;124m'\u001b[39m\u001b[38;5;124mPrice\u001b[39m\u001b[38;5;124m'\u001b[39m:list_price,\u001b[38;5;124m'\u001b[39m\u001b[38;5;124mProduct Link\u001b[39m\u001b[38;5;124m'\u001b[39m:list_link})\n\u001b[0;32m     17\u001b[0m \u001b[38;5;66;03m# df2 = df.to_string(index=False)\u001b[39;00m\n\u001b[0;32m     18\u001b[0m \u001b[38;5;66;03m# print(df2)\u001b[39;00m\n\u001b[1;32m---> 19\u001b[0m df \u001b[38;5;241m=\u001b[39m \u001b[43mdf\u001b[49m\u001b[38;5;241;43m.\u001b[39;49m\u001b[43mstyle\u001b[49m\u001b[38;5;241;43m.\u001b[39;49m\u001b[43mhide_index\u001b[49m()\n\u001b[0;32m     20\u001b[0m df\n",
      "\u001b[1;31mAttributeError\u001b[0m: 'Styler' object has no attribute 'hide_index'"
     ]
    }
   ],
   "source": [
    "i = 1\n",
    "base_url = \"https://shopee.co.id\"\n",
    "current_url = driver.current_url\n",
    "list_website, list_product, list_price, list_link=[],[],[],[]\n",
    "for area in data.find_all('div',class_=\"col-xs-2-4 shopee-search-item-result__item\"):\n",
    "    nama = area.find('div',class_=\"ie3A+n bM+7UW Cve6sh\").get_text()\n",
    "    price = area.find('span',class_=\"ZEgDH9\").get_text()\n",
    "    link = area.find('a')['href']\n",
    "    if base_url in current_url:\n",
    "        website_name = \"Shopee\"\n",
    "        list_website.append(website_name)\n",
    "    list_product.append(nama)\n",
    "    list_price.append(price)\n",
    "    list_link.append(base_url+link)\n",
    "    i+=1\n",
    "df = pd.DataFrame({'Website':list_website,'Product Name':list_product,'Price':list_price,'Product Link':list_link})\n",
    "# df2 = df.to_string(index=False)\n",
    "# print(df2)\n",
    "df = df.style.hide_index()\n",
    "df"
   ]
  },
  {
   "cell_type": "code",
   "execution_count": null,
   "id": "90575d2d",
   "metadata": {},
   "outputs": [],
   "source": []
  }
 ],
 "metadata": {
  "kernelspec": {
   "display_name": "Python 3 (ipykernel)",
   "language": "python",
   "name": "python3"
  },
  "language_info": {
   "codemirror_mode": {
    "name": "ipython",
    "version": 3
   },
   "file_extension": ".py",
   "mimetype": "text/x-python",
   "name": "python",
   "nbconvert_exporter": "python",
   "pygments_lexer": "ipython3",
   "version": "3.10.9"
  }
 },
 "nbformat": 4,
 "nbformat_minor": 5
}
