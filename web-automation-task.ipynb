{
 "cells": [
  {
   "cell_type": "code",
   "execution_count": 1,
   "id": "d5b6d1ea",
   "metadata": {},
   "outputs": [
    {
     "name": "stdout",
     "output_type": "stream",
     "text": [
      "Requirement already satisfied: autoscraper in c:\\users\\meilinda zheng\\appdata\\local\\programs\\python\\python310\\lib\\site-packages (1.1.14)\n",
      "Requirement already satisfied: requests in c:\\users\\meilinda zheng\\appdata\\local\\programs\\python\\python310\\lib\\site-packages (from autoscraper) (2.28.2)\n",
      "Requirement already satisfied: lxml in c:\\users\\meilinda zheng\\appdata\\local\\programs\\python\\python310\\lib\\site-packages (from autoscraper) (4.9.2)\n",
      "Requirement already satisfied: bs4 in c:\\users\\meilinda zheng\\appdata\\local\\programs\\python\\python310\\lib\\site-packages (from autoscraper) (0.0.1)\n",
      "Requirement already satisfied: beautifulsoup4 in c:\\users\\meilinda zheng\\appdata\\local\\programs\\python\\python310\\lib\\site-packages (from bs4->autoscraper) (4.12.2)\n",
      "Requirement already satisfied: certifi>=2017.4.17 in c:\\users\\meilinda zheng\\appdata\\local\\programs\\python\\python310\\lib\\site-packages (from requests->autoscraper) (2022.12.7)\n",
      "Requirement already satisfied: urllib3<1.27,>=1.21.1 in c:\\users\\meilinda zheng\\appdata\\local\\programs\\python\\python310\\lib\\site-packages (from requests->autoscraper) (1.26.15)\n",
      "Requirement already satisfied: idna<4,>=2.5 in c:\\users\\meilinda zheng\\appdata\\local\\programs\\python\\python310\\lib\\site-packages (from requests->autoscraper) (3.4)\n",
      "Requirement already satisfied: charset-normalizer<4,>=2 in c:\\users\\meilinda zheng\\appdata\\local\\programs\\python\\python310\\lib\\site-packages (from requests->autoscraper) (3.1.0)\n",
      "Requirement already satisfied: soupsieve>1.2 in c:\\users\\meilinda zheng\\appdata\\local\\programs\\python\\python310\\lib\\site-packages (from beautifulsoup4->bs4->autoscraper) (2.4)\n",
      "Note: you may need to restart the kernel to use updated packages.\n"
     ]
    }
   ],
   "source": [
    "pip install autoscraper"
   ]
  },
  {
   "cell_type": "code",
   "execution_count": 2,
   "id": "29e723c9",
   "metadata": {},
   "outputs": [],
   "source": [
    "from selenium import webdriver"
   ]
  },
  {
   "cell_type": "code",
   "execution_count": 3,
   "id": "d62c8be0",
   "metadata": {},
   "outputs": [],
   "source": [
    "driver = webdriver.Chrome()"
   ]
  },
  {
   "cell_type": "code",
   "execution_count": 4,
   "id": "86f73dc1",
   "metadata": {},
   "outputs": [],
   "source": [
    "driver.get('https://shopee.co.id/')"
   ]
  },
  {
   "cell_type": "code",
   "execution_count": 5,
   "id": "7c4b5dcb",
   "metadata": {},
   "outputs": [],
   "source": [
    "from selenium.webdriver.common.by import By"
   ]
  },
  {
   "cell_type": "code",
   "execution_count": 6,
   "id": "3eff7f31",
   "metadata": {},
   "outputs": [],
   "source": [
    "driver.find_element(By.XPATH,'//*[@placeholder=\"Daftar & Dapat Voucher Gratis\"]').send_keys(\"Iphone 13\")"
   ]
  },
  {
   "cell_type": "code",
   "execution_count": 7,
   "id": "d5c92b65",
   "metadata": {},
   "outputs": [],
   "source": [
    "driver.find_element(By.XPATH,'//*[@class=\"btn btn-solid-primary btn--s btn--inline shopee-searchbar__search-button\"]').click()"
   ]
  },
  {
   "cell_type": "code",
   "execution_count": null,
   "id": "c2e92368",
   "metadata": {},
   "outputs": [],
   "source": []
  }
 ],
 "metadata": {
  "kernelspec": {
   "display_name": "Python 3 (ipykernel)",
   "language": "python",
   "name": "python3"
  },
  "language_info": {
   "codemirror_mode": {
    "name": "ipython",
    "version": 3
   },
   "file_extension": ".py",
   "mimetype": "text/x-python",
   "name": "python",
   "nbconvert_exporter": "python",
   "pygments_lexer": "ipython3",
   "version": "3.10.9"
  }
 },
 "nbformat": 4,
 "nbformat_minor": 5
}
