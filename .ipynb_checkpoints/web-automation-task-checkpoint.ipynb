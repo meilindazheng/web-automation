{
 "cells": [
  {
   "cell_type": "code",
   "execution_count": 1,
   "id": "29e723c9",
   "metadata": {},
   "outputs": [
    {
     "name": "stdout",
     "output_type": "stream",
     "text": [
      "2.0.0\n",
      "1.24.2\n"
     ]
    }
   ],
   "source": [
    "from selenium import webdriver\n",
    "from selenium.webdriver.chrome.service import Service\n",
    "from bs4 import BeautifulSoup\n",
    "from selenium.webdriver.common.by import By\n",
    "from IPython.display import HTML\n",
    "import pandas as pd\n",
    "import numpy as np\n",
    "import time\n",
    "import string\n",
    "import requests\n",
    "\n",
    "print(pd.__version__)\n",
    "print(np.__version__)"
   ]
  },
  {
   "cell_type": "code",
   "execution_count": 2,
   "id": "c41be51f",
   "metadata": {},
   "outputs": [],
   "source": [
    "driver = webdriver.Chrome()"
   ]
  },
  {
   "cell_type": "code",
   "execution_count": 4,
   "id": "2bad8050",
   "metadata": {},
   "outputs": [
    {
     "data": {
      "text/html": [
       "<div>\n",
       "<style scoped>\n",
       "    .dataframe tbody tr th:only-of-type {\n",
       "        vertical-align: middle;\n",
       "    }\n",
       "\n",
       "    .dataframe tbody tr th {\n",
       "        vertical-align: top;\n",
       "    }\n",
       "\n",
       "    .dataframe thead th {\n",
       "        text-align: right;\n",
       "    }\n",
       "</style>\n",
       "<table border=\"1\" class=\"dataframe\">\n",
       "  <thead>\n",
       "    <tr style=\"text-align: right;\">\n",
       "      <th></th>\n",
       "      <th>Website</th>\n",
       "      <th>Product Name</th>\n",
       "      <th>Price</th>\n",
       "      <th>Product Link</th>\n",
       "    </tr>\n",
       "  </thead>\n",
       "  <tbody>\n",
       "    <tr>\n",
       "      <th>0</th>\n",
       "      <td>Shopee</td>\n",
       "      <td>Apple iPhone 13 256GB, Midnight</td>\n",
       "      <td>14.499.000</td>\n",
       "      <td>https://shopee.co.id/Apple-iPhone-13-256GB-Mid...</td>\n",
       "    </tr>\n",
       "    <tr>\n",
       "      <th>1</th>\n",
       "      <td>Shopee</td>\n",
       "      <td>Apple iPhone 13 128GB, Blue</td>\n",
       "      <td>15.199.000</td>\n",
       "      <td>https://shopee.co.id/Apple-iPhone-13-128GB-Blu...</td>\n",
       "    </tr>\n",
       "    <tr>\n",
       "      <th>2</th>\n",
       "      <td>Shopee</td>\n",
       "      <td>Apple iPhone 13 128GB, Midnight</td>\n",
       "      <td>15.199.000</td>\n",
       "      <td>https://shopee.co.id/Apple-iPhone-13-128GB-Mid...</td>\n",
       "    </tr>\n",
       "    <tr>\n",
       "      <th>3</th>\n",
       "      <td>Shopee</td>\n",
       "      <td>Apple iPhone 13 256GB, Green</td>\n",
       "      <td>17.699.000</td>\n",
       "      <td>https://shopee.co.id/Apple-iPhone-13-256GB-Gre...</td>\n",
       "    </tr>\n",
       "    <tr>\n",
       "      <th>4</th>\n",
       "      <td>Shopee</td>\n",
       "      <td>Apple iPhone 13 256GB, Pink</td>\n",
       "      <td>17.699.000</td>\n",
       "      <td>https://shopee.co.id/Apple-iPhone-13-256GB-Pin...</td>\n",
       "    </tr>\n",
       "  </tbody>\n",
       "</table>\n",
       "</div>"
      ],
      "text/plain": [
       "  Website                     Product Name       Price   \n",
       "0  Shopee  Apple iPhone 13 256GB, Midnight  14.499.000  \\\n",
       "1  Shopee      Apple iPhone 13 128GB, Blue  15.199.000   \n",
       "2  Shopee  Apple iPhone 13 128GB, Midnight  15.199.000   \n",
       "3  Shopee     Apple iPhone 13 256GB, Green  17.699.000   \n",
       "4  Shopee      Apple iPhone 13 256GB, Pink  17.699.000   \n",
       "\n",
       "                                        Product Link  \n",
       "0  https://shopee.co.id/Apple-iPhone-13-256GB-Mid...  \n",
       "1  https://shopee.co.id/Apple-iPhone-13-128GB-Blu...  \n",
       "2  https://shopee.co.id/Apple-iPhone-13-128GB-Mid...  \n",
       "3  https://shopee.co.id/Apple-iPhone-13-256GB-Gre...  \n",
       "4  https://shopee.co.id/Apple-iPhone-13-256GB-Pin...  "
      ]
     },
     "execution_count": 4,
     "metadata": {},
     "output_type": "execute_result"
    }
   ],
   "source": [
    "url = 'https://shopee.co.id/search?keyword=iphone%2013'\n",
    "base_url = \"https://shopee.co.id\"\n",
    "current_url = driver.current_url\n",
    "max_pages = 0\n",
    "current_page =0\n",
    "content = driver.page_source\n",
    "data = BeautifulSoup(content,'html.parser')\n",
    "product_name = \"Apple iPhone 13\"\n",
    "list_website, list_product, list_price, list_link=[],[],[],[]\n",
    "while current_page <= max_pages:\n",
    "    driver.get(f'https://shopee.co.id/search?keyword=iphone%2013&page={current_page}')\n",
    "    driver.set_window_size(1300,800)\n",
    "    time.sleep(10)\n",
    "    rentang = 500\n",
    "    for i in range (1,20):\n",
    "        akhir = rentang*i\n",
    "        perintah = \"window.scrollTo(0,\"+str(akhir)+\")\"\n",
    "        driver.execute_script(perintah)\n",
    "        time.sleep(10)\n",
    "    for area in data.find_all('div',class_=\"col-xs-2-4 shopee-search-item-result__item\"):\n",
    "        nama = area.find('div',class_=\"ie3A+n bM+7UW Cve6sh\").get_text()\n",
    "        price = area.find('span',class_=\"ZEgDH9\").get_text()\n",
    "        link = area.find('a')['href']\n",
    "        website_name = \"Shopee\"\n",
    "        if product_name in nama: \n",
    "            list_website.append(website_name)\n",
    "            list_product.append(nama)\n",
    "            list_price.append(price)\n",
    "            list_link.append(base_url+link)\n",
    "    current_page+=1\n",
    "data_shopee = pd.DataFrame({'Website':list_website,'Product Name':list_product,'Price':list_price,'Product Link':list_link})\n",
    "pd.set_option('display.max_rows', None)\n",
    "data_shopee"
   ]
  },
  {
   "cell_type": "code",
   "execution_count": null,
   "id": "0ea68f1b",
   "metadata": {},
   "outputs": [],
   "source": [
    "driver = webdriver.Chrome()"
   ]
  },
  {
   "cell_type": "code",
   "execution_count": null,
   "id": "eb5f9a68",
   "metadata": {},
   "outputs": [],
   "source": [
    "url = 'https://www.tokopedia.com/search?navsource=home&page=1&q=iphone%2013&source=universe&srp_component_id=01.02.01.02&st=product'\n",
    "base_url = \"https://www.tokopedia.com\"\n",
    "current_url = driver.current_url\n",
    "max_pages = 1\n",
    "current_page =1\n",
    "content = driver.page_source\n",
    "data = BeautifulSoup(content,'html.parser')\n",
    "product_name = \"Apple iPhone 13\"\n",
    "list_website, list_product, list_price, list_link=[],[],[],[]\n",
    "while current_page <= max_pages:\n",
    "    driver.get(f'https://www.tokopedia.com/search?navsource=home&page={current_page}&q=iphone%2013&source=universe&srp_component_id=01.02.01.02&st=product')\n",
    "    driver.set_window_size(1300,800)\n",
    "    time.sleep(10)\n",
    "    rentang = 500\n",
    "    for i in range (1,20):\n",
    "        akhir = rentang*i\n",
    "        perintah = \"window.scrollTo(0,\"+str(akhir)+\")\"\n",
    "        driver.execute_script(perintah)\n",
    "        time.sleep(10)\n",
    "    for area in data.find_all('div',class_=\"css-12sieg3\"):\n",
    "        nama = area.find('div',class_=\"prd_link-product-name css-3um8ox\").get_text()\n",
    "        price = area.find('div',class_=\"prd_link-product-price css-1ksb19c\").get_text()\n",
    "        link = area.find('a')['href']\n",
    "        if base_url in current_url and product_name in nama:\n",
    "            website_name = \"Tokopedia\"\n",
    "            list_website.append(website_name)\n",
    "            list_product.append(nama)\n",
    "            list_price.append(price)\n",
    "            list_link.append(link)\n",
    "    current_page+=1\n",
    "data_tokped = pd.DataFrame({'Website':list_website,'Product Name':list_product,'Price':list_price,'Product Link':list_link})\n",
    "pd.set_option('display.max_rows', None)\n",
    "data_tokped"
   ]
  },
  {
   "cell_type": "code",
   "execution_count": null,
   "id": "5b737098",
   "metadata": {},
   "outputs": [],
   "source": [
    "data_combine = pd.concat([data_shopee,data_tokped],axis=0,ignore_index=True)\n",
    "data_combine"
   ]
  },
  {
   "cell_type": "code",
   "execution_count": null,
   "id": "d3c6b1c8",
   "metadata": {},
   "outputs": [],
   "source": [
    "data_combine.dtypes"
   ]
  },
  {
   "cell_type": "code",
   "execution_count": null,
   "id": "728762ff",
   "metadata": {},
   "outputs": [],
   "source": [
    "data_combine['Price'] = data_combine['Price'].str.replace('.','')\n",
    "data_combine['Price'] = data_combine['Price'].str.replace('Rp','')\n",
    "data_combine['Price']"
   ]
  },
  {
   "cell_type": "code",
   "execution_count": null,
   "id": "b37d62c7",
   "metadata": {},
   "outputs": [],
   "source": [
    "data_combine['Price'] = data_combine['Price'].astype('float')\n",
    "data_combine.dtypes\n"
   ]
  },
  {
   "cell_type": "code",
   "execution_count": null,
   "id": "ee0edbac",
   "metadata": {},
   "outputs": [],
   "source": [
    "data_combine.sort_values(by=['Price']).style.hide()\n"
   ]
  },
  {
   "cell_type": "code",
   "execution_count": null,
   "id": "7bc906e8",
   "metadata": {},
   "outputs": [],
   "source": [
    "def make_clickable(url, name):\n",
    "    return '<a href=\"{}\" rel=\"noopener noreferrer\" target=\"_blank\">{}</a>'.format(url,name)\n",
    "data_combine['Product Link'] = data_combine.apply(lambda x: make_clickable(x['Product Link'], x['Website']), axis=1)\n",
    "data_combine.style\n",
    "data_combine.sort_values(by=['Price']).style.hide()\n",
    "\n"
   ]
  },
  {
   "cell_type": "code",
   "execution_count": null,
   "id": "ebf795c3",
   "metadata": {},
   "outputs": [],
   "source": []
  }
 ],
 "metadata": {
  "kernelspec": {
   "display_name": "Python 3 (ipykernel)",
   "language": "python",
   "name": "python3"
  },
  "language_info": {
   "codemirror_mode": {
    "name": "ipython",
    "version": 3
   },
   "file_extension": ".py",
   "mimetype": "text/x-python",
   "name": "python",
   "nbconvert_exporter": "python",
   "pygments_lexer": "ipython3",
   "version": "3.10.9"
  }
 },
 "nbformat": 4,
 "nbformat_minor": 5
}
